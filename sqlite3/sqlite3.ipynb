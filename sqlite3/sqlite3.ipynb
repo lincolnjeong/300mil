{
 "cells": [
  {
   "cell_type": "code",
   "execution_count": 2,
   "metadata": {},
   "outputs": [],
   "source": [
    "import sqlite3\n",
    "import csv"
   ]
  },
  {
   "cell_type": "code",
   "execution_count": 3,
   "metadata": {},
   "outputs": [
    {
     "name": "stdout",
     "output_type": "stream",
     "text": [
      "['\\ufeffdate', 'tradePrice', 'change', 'changePrice', 'accTradeVolume', 'accTradePrice', 'individualStraightPurchasePrice', 'foreignStraightPurchasePrice', 'institutionStraightPurchasePrice']\n",
      "['2019-07-03 00:00:00', '2113.28', 'FALL', '8.74', '180753', '1415097', '25435352963', '-51579856319', '28986343951']\n",
      "['2019-07-02 00:00:00', '2122.02', 'FALL', '7.72', '460830', '4107541', '24006908061', '34321459071', '-51500525649']\n",
      "['2019-07-01 00:00:00', '2129.74', 'FALL', '0.88', '412291', '4730192', '-19121687014', '154486503785', '6138187770']\n",
      "['2019-06-28 00:00:00', '2130.62', 'FALL', '3.7', '537274', '4282404', '-199483658718', '312263760802', '-109684798220']\n"
     ]
    }
   ],
   "source": [
    "with open('./daum_kospi.csv', 'r', encoding='utf-8') as f:\n",
    "    filereader = csv.reader(f)\n",
    "    for idx, content in enumerate(filereader):\n",
    "        if(idx < 5):\n",
    "            print(content)\n",
    "        else: break"
   ]
  },
  {
   "cell_type": "code",
   "execution_count": 6,
   "metadata": {},
   "outputs": [],
   "source": [
    "# 메모리에 DB 생성\n",
    "con = sqlite3.connect(':memory:')"
   ]
  },
  {
   "cell_type": "code",
   "execution_count": 7,
   "metadata": {},
   "outputs": [],
   "source": [
    "query = \"\"\"\n",
    "CREATE TABLE kospi_table\n",
    "(date VARCHAR(30) NOT NULL,\n",
    "trade_price FLOAT NULL DEFAULT NULL,\n",
    "change VARCHAR(30) NULL DEFAULT NULL,\n",
    "changePrice FLOAT NULL DEFAULT NULL,\n",
    "accTradeVolume BIGINT(20) NULL DEFAULT NULL,\n",
    "accTradePrice BIGINT(20) NULL DEFAULT NULL,\n",
    "individualStraightPurchasePrice BIGINT(20) NULL DEFAULT NULL,\n",
    "foreignStraightPurchasePrice BIGINT(20) NULL DEFAULT NULL,\n",
    "institutionStraightPurchasePrice BIGINT(20) NULL DEFAULT NULL,\n",
    "PRIMARY KEY (date)\n",
    ")\n",
    "\"\"\""
   ]
  },
  {
   "cell_type": "code",
   "execution_count": 8,
   "metadata": {},
   "outputs": [
    {
     "data": {
      "text/plain": [
       "<sqlite3.Cursor at 0x7efbe9f11c70>"
      ]
     },
     "execution_count": 8,
     "metadata": {},
     "output_type": "execute_result"
    }
   ],
   "source": [
    "# 실행\n",
    "con.execute(query)"
   ]
  },
  {
   "cell_type": "code",
   "execution_count": 9,
   "metadata": {},
   "outputs": [],
   "source": [
    "# 반영\n",
    "con.commit()"
   ]
  },
  {
   "cell_type": "code",
   "execution_count": 10,
   "metadata": {},
   "outputs": [],
   "source": [
    "# 데이터 삽입\n",
    "statement = \"INSERT INTO kospi_table VALUES(?, ?, ?, ?, ?, ?, ?, ?, ?)\""
   ]
  },
  {
   "cell_type": "code",
   "execution_count": 11,
   "metadata": {},
   "outputs": [],
   "source": [
    "with open('./daum_kospi.csv', 'r', encoding='utf-8') as f:\n",
    "    filereader = csv.reader(f)\n",
    "    for idx, content in enumerate(filereader):\n",
    "        con.execute(statement, content)"
   ]
  },
  {
   "cell_type": "code",
   "execution_count": 12,
   "metadata": {},
   "outputs": [],
   "source": [
    "con.commit()"
   ]
  },
  {
   "cell_type": "code",
   "execution_count": 13,
   "metadata": {},
   "outputs": [],
   "source": [
    "# 조회\n",
    "cursor = con.execute('SELECT * FROM kospi_table')"
   ]
  },
  {
   "cell_type": "code",
   "execution_count": 14,
   "metadata": {},
   "outputs": [],
   "source": [
    "rows = cursor.fetchall()"
   ]
  },
  {
   "cell_type": "code",
   "execution_count": 17,
   "metadata": {},
   "outputs": [
    {
     "data": {
      "text/plain": [
       "101"
      ]
     },
     "execution_count": 17,
     "metadata": {},
     "output_type": "execute_result"
    }
   ],
   "source": [
    "len(rows)"
   ]
  },
  {
   "cell_type": "code",
   "execution_count": 20,
   "metadata": {},
   "outputs": [
    {
     "data": {
      "text/plain": [
       "[('2019-07-01 00:00:00',\n",
       "  2129.74,\n",
       "  'FALL',\n",
       "  0.88,\n",
       "  412291,\n",
       "  4730192,\n",
       "  -19121687014,\n",
       "  154486503785,\n",
       "  6138187770),\n",
       " ('2019-07-02 00:00:00',\n",
       "  2122.02,\n",
       "  'FALL',\n",
       "  7.72,\n",
       "  460830,\n",
       "  4107541,\n",
       "  24006908061,\n",
       "  34321459071,\n",
       "  -51500525649),\n",
       " ('2019-07-03 00:00:00',\n",
       "  2113.28,\n",
       "  'FALL',\n",
       "  8.74,\n",
       "  180753,\n",
       "  1415097,\n",
       "  25435352963,\n",
       "  -51579856319,\n",
       "  28986343951),\n",
       " ('\\ufeffdate',\n",
       "  'tradePrice',\n",
       "  'change',\n",
       "  'changePrice',\n",
       "  'accTradeVolume',\n",
       "  'accTradePrice',\n",
       "  'individualStraightPurchasePrice',\n",
       "  'foreignStraightPurchasePrice',\n",
       "  'institutionStraightPurchasePrice')]"
      ]
     },
     "execution_count": 20,
     "metadata": {},
     "output_type": "execute_result"
    }
   ],
   "source": [
    "# WHERE 조건\n",
    "cursor = con.execute('SELECT * FROM kospi_table WHERE date > \"2019-07-01\"')\n",
    "rows = cursor.fetchall()\n",
    "rows"
   ]
  },
  {
   "cell_type": "code",
   "execution_count": 26,
   "metadata": {},
   "outputs": [
    {
     "data": {
      "text/html": [
       "<div>\n",
       "<style scoped>\n",
       "    .dataframe tbody tr th:only-of-type {\n",
       "        vertical-align: middle;\n",
       "    }\n",
       "\n",
       "    .dataframe tbody tr th {\n",
       "        vertical-align: top;\n",
       "    }\n",
       "\n",
       "    .dataframe thead th {\n",
       "        text-align: right;\n",
       "    }\n",
       "</style>\n",
       "<table border=\"1\" class=\"dataframe\">\n",
       "  <thead>\n",
       "    <tr style=\"text-align: right;\">\n",
       "      <th></th>\n",
       "      <th>﻿date</th>\n",
       "      <th>tradePrice</th>\n",
       "      <th>change</th>\n",
       "      <th>changePrice</th>\n",
       "      <th>accTradeVolume</th>\n",
       "      <th>accTradePrice</th>\n",
       "      <th>individualStraightPurchasePrice</th>\n",
       "      <th>foreignStraightPurchasePrice</th>\n",
       "      <th>institutionStraightPurchasePrice</th>\n",
       "    </tr>\n",
       "  </thead>\n",
       "  <tbody>\n",
       "    <tr>\n",
       "      <th>0</th>\n",
       "      <td>2019-07-01 00:00:00</td>\n",
       "      <td>2129.74</td>\n",
       "      <td>FALL</td>\n",
       "      <td>0.88</td>\n",
       "      <td>412291</td>\n",
       "      <td>4730192</td>\n",
       "      <td>-19121687014</td>\n",
       "      <td>154486503785</td>\n",
       "      <td>6138187770</td>\n",
       "    </tr>\n",
       "    <tr>\n",
       "      <th>1</th>\n",
       "      <td>2019-07-02 00:00:00</td>\n",
       "      <td>2122.02</td>\n",
       "      <td>FALL</td>\n",
       "      <td>7.72</td>\n",
       "      <td>460830</td>\n",
       "      <td>4107541</td>\n",
       "      <td>24006908061</td>\n",
       "      <td>34321459071</td>\n",
       "      <td>-51500525649</td>\n",
       "    </tr>\n",
       "    <tr>\n",
       "      <th>2</th>\n",
       "      <td>2019-07-03 00:00:00</td>\n",
       "      <td>2113.28</td>\n",
       "      <td>FALL</td>\n",
       "      <td>8.74</td>\n",
       "      <td>180753</td>\n",
       "      <td>1415097</td>\n",
       "      <td>25435352963</td>\n",
       "      <td>-51579856319</td>\n",
       "      <td>28986343951</td>\n",
       "    </tr>\n",
       "  </tbody>\n",
       "</table>\n",
       "</div>"
      ],
      "text/plain": [
       "                 ﻿date  tradePrice change  changePrice  accTradeVolume  \\\n",
       "0  2019-07-01 00:00:00     2129.74   FALL         0.88          412291   \n",
       "1  2019-07-02 00:00:00     2122.02   FALL         7.72          460830   \n",
       "2  2019-07-03 00:00:00     2113.28   FALL         8.74          180753   \n",
       "\n",
       "   accTradePrice  individualStraightPurchasePrice  \\\n",
       "0        4730192                     -19121687014   \n",
       "1        4107541                      24006908061   \n",
       "2        1415097                      25435352963   \n",
       "\n",
       "   foreignStraightPurchasePrice  institutionStraightPurchasePrice  \n",
       "0                  154486503785                        6138187770  \n",
       "1                   34321459071                      -51500525649  \n",
       "2                  -51579856319                       28986343951  "
      ]
     },
     "execution_count": 26,
     "metadata": {},
     "output_type": "execute_result"
    }
   ],
   "source": [
    "import pandas as pd\n",
    "pd.DataFrame(rows[:-1], columns=rows[-1])"
   ]
  },
  {
   "cell_type": "code",
   "execution_count": 27,
   "metadata": {},
   "outputs": [],
   "source": [
    "import json\n",
    "import requests"
   ]
  },
  {
   "cell_type": "code",
   "execution_count": 28,
   "metadata": {},
   "outputs": [],
   "source": [
    "con = sqlite3.connect('mystock.db')"
   ]
  },
  {
   "cell_type": "code",
   "execution_count": 29,
   "metadata": {},
   "outputs": [],
   "source": [
    "url = 'https://finance.naver.com/item/sise_day.nhn?code=195440&page={}'"
   ]
  },
  {
   "cell_type": "code",
   "execution_count": 30,
   "metadata": {},
   "outputs": [
    {
     "data": {
      "text/html": [
       "<div>\n",
       "<style scoped>\n",
       "    .dataframe tbody tr th:only-of-type {\n",
       "        vertical-align: middle;\n",
       "    }\n",
       "\n",
       "    .dataframe tbody tr th {\n",
       "        vertical-align: top;\n",
       "    }\n",
       "\n",
       "    .dataframe thead th {\n",
       "        text-align: right;\n",
       "    }\n",
       "</style>\n",
       "<table border=\"1\" class=\"dataframe\">\n",
       "  <thead>\n",
       "    <tr style=\"text-align: right;\">\n",
       "      <th></th>\n",
       "      <th>날짜</th>\n",
       "      <th>종가</th>\n",
       "      <th>전일비</th>\n",
       "      <th>시가</th>\n",
       "      <th>고가</th>\n",
       "      <th>저가</th>\n",
       "      <th>거래량</th>\n",
       "    </tr>\n",
       "  </thead>\n",
       "  <tbody>\n",
       "    <tr>\n",
       "      <th>1</th>\n",
       "      <td>2020.01.23</td>\n",
       "      <td>4615.0</td>\n",
       "      <td>80.0</td>\n",
       "      <td>4695.0</td>\n",
       "      <td>4710.0</td>\n",
       "      <td>4590.0</td>\n",
       "      <td>49820.0</td>\n",
       "    </tr>\n",
       "    <tr>\n",
       "      <th>2</th>\n",
       "      <td>2020.01.22</td>\n",
       "      <td>4695.0</td>\n",
       "      <td>145.0</td>\n",
       "      <td>4780.0</td>\n",
       "      <td>4800.0</td>\n",
       "      <td>4645.0</td>\n",
       "      <td>81399.0</td>\n",
       "    </tr>\n",
       "    <tr>\n",
       "      <th>3</th>\n",
       "      <td>2020.01.21</td>\n",
       "      <td>4840.0</td>\n",
       "      <td>75.0</td>\n",
       "      <td>4915.0</td>\n",
       "      <td>4965.0</td>\n",
       "      <td>4700.0</td>\n",
       "      <td>54413.0</td>\n",
       "    </tr>\n",
       "    <tr>\n",
       "      <th>4</th>\n",
       "      <td>2020.01.20</td>\n",
       "      <td>4915.0</td>\n",
       "      <td>135.0</td>\n",
       "      <td>4955.0</td>\n",
       "      <td>5090.0</td>\n",
       "      <td>4910.0</td>\n",
       "      <td>66824.0</td>\n",
       "    </tr>\n",
       "    <tr>\n",
       "      <th>5</th>\n",
       "      <td>2020.01.17</td>\n",
       "      <td>5050.0</td>\n",
       "      <td>10.0</td>\n",
       "      <td>5060.0</td>\n",
       "      <td>5100.0</td>\n",
       "      <td>4965.0</td>\n",
       "      <td>52772.0</td>\n",
       "    </tr>\n",
       "    <tr>\n",
       "      <th>9</th>\n",
       "      <td>2020.01.16</td>\n",
       "      <td>5060.0</td>\n",
       "      <td>30.0</td>\n",
       "      <td>5070.0</td>\n",
       "      <td>5150.0</td>\n",
       "      <td>4985.0</td>\n",
       "      <td>61506.0</td>\n",
       "    </tr>\n",
       "    <tr>\n",
       "      <th>10</th>\n",
       "      <td>2020.01.15</td>\n",
       "      <td>5090.0</td>\n",
       "      <td>215.0</td>\n",
       "      <td>4875.0</td>\n",
       "      <td>5090.0</td>\n",
       "      <td>4830.0</td>\n",
       "      <td>114396.0</td>\n",
       "    </tr>\n",
       "    <tr>\n",
       "      <th>11</th>\n",
       "      <td>2020.01.14</td>\n",
       "      <td>4875.0</td>\n",
       "      <td>125.0</td>\n",
       "      <td>5090.0</td>\n",
       "      <td>5090.0</td>\n",
       "      <td>4860.0</td>\n",
       "      <td>91123.0</td>\n",
       "    </tr>\n",
       "    <tr>\n",
       "      <th>12</th>\n",
       "      <td>2020.01.13</td>\n",
       "      <td>5000.0</td>\n",
       "      <td>145.0</td>\n",
       "      <td>4800.0</td>\n",
       "      <td>5270.0</td>\n",
       "      <td>4800.0</td>\n",
       "      <td>221862.0</td>\n",
       "    </tr>\n",
       "    <tr>\n",
       "      <th>13</th>\n",
       "      <td>2020.01.10</td>\n",
       "      <td>4855.0</td>\n",
       "      <td>150.0</td>\n",
       "      <td>4705.0</td>\n",
       "      <td>4930.0</td>\n",
       "      <td>4685.0</td>\n",
       "      <td>126381.0</td>\n",
       "    </tr>\n",
       "  </tbody>\n",
       "</table>\n",
       "</div>"
      ],
      "text/plain": [
       "            날짜      종가    전일비      시가      고가      저가       거래량\n",
       "1   2020.01.23  4615.0   80.0  4695.0  4710.0  4590.0   49820.0\n",
       "2   2020.01.22  4695.0  145.0  4780.0  4800.0  4645.0   81399.0\n",
       "3   2020.01.21  4840.0   75.0  4915.0  4965.0  4700.0   54413.0\n",
       "4   2020.01.20  4915.0  135.0  4955.0  5090.0  4910.0   66824.0\n",
       "5   2020.01.17  5050.0   10.0  5060.0  5100.0  4965.0   52772.0\n",
       "9   2020.01.16  5060.0   30.0  5070.0  5150.0  4985.0   61506.0\n",
       "10  2020.01.15  5090.0  215.0  4875.0  5090.0  4830.0  114396.0\n",
       "11  2020.01.14  4875.0  125.0  5090.0  5090.0  4860.0   91123.0\n",
       "12  2020.01.13  5000.0  145.0  4800.0  5270.0  4800.0  221862.0\n",
       "13  2020.01.10  4855.0  150.0  4705.0  4930.0  4685.0  126381.0"
      ]
     },
     "execution_count": 30,
     "metadata": {},
     "output_type": "execute_result"
    }
   ],
   "source": [
    "pd.read_html(requests.get(url.format(1)).text)[0].dropna()"
   ]
  },
  {
   "cell_type": "code",
   "execution_count": 31,
   "metadata": {},
   "outputs": [],
   "source": [
    "tmp = pd.read_html(requests.get(url.format(1)).text)[0].dropna()"
   ]
  },
  {
   "cell_type": "code",
   "execution_count": 32,
   "metadata": {},
   "outputs": [],
   "source": [
    "tmp.to_sql('stock_day', con, if_exists='append', index=False)"
   ]
  },
  {
   "cell_type": "code",
   "execution_count": 34,
   "metadata": {},
   "outputs": [
    {
     "data": {
      "text/html": [
       "<div>\n",
       "<style scoped>\n",
       "    .dataframe tbody tr th:only-of-type {\n",
       "        vertical-align: middle;\n",
       "    }\n",
       "\n",
       "    .dataframe tbody tr th {\n",
       "        vertical-align: top;\n",
       "    }\n",
       "\n",
       "    .dataframe thead th {\n",
       "        text-align: right;\n",
       "    }\n",
       "</style>\n",
       "<table border=\"1\" class=\"dataframe\">\n",
       "  <thead>\n",
       "    <tr style=\"text-align: right;\">\n",
       "      <th></th>\n",
       "      <th>종가</th>\n",
       "      <th>전일비</th>\n",
       "      <th>시가</th>\n",
       "      <th>고가</th>\n",
       "      <th>저가</th>\n",
       "      <th>거래량</th>\n",
       "    </tr>\n",
       "    <tr>\n",
       "      <th>날짜</th>\n",
       "      <th></th>\n",
       "      <th></th>\n",
       "      <th></th>\n",
       "      <th></th>\n",
       "      <th></th>\n",
       "      <th></th>\n",
       "    </tr>\n",
       "  </thead>\n",
       "  <tbody>\n",
       "    <tr>\n",
       "      <th>2020-01-23</th>\n",
       "      <td>4615.0</td>\n",
       "      <td>80.0</td>\n",
       "      <td>4695.0</td>\n",
       "      <td>4710.0</td>\n",
       "      <td>4590.0</td>\n",
       "      <td>49820.0</td>\n",
       "    </tr>\n",
       "    <tr>\n",
       "      <th>2020-01-22</th>\n",
       "      <td>4695.0</td>\n",
       "      <td>145.0</td>\n",
       "      <td>4780.0</td>\n",
       "      <td>4800.0</td>\n",
       "      <td>4645.0</td>\n",
       "      <td>81399.0</td>\n",
       "    </tr>\n",
       "    <tr>\n",
       "      <th>2020-01-21</th>\n",
       "      <td>4840.0</td>\n",
       "      <td>75.0</td>\n",
       "      <td>4915.0</td>\n",
       "      <td>4965.0</td>\n",
       "      <td>4700.0</td>\n",
       "      <td>54413.0</td>\n",
       "    </tr>\n",
       "    <tr>\n",
       "      <th>2020-01-20</th>\n",
       "      <td>4915.0</td>\n",
       "      <td>135.0</td>\n",
       "      <td>4955.0</td>\n",
       "      <td>5090.0</td>\n",
       "      <td>4910.0</td>\n",
       "      <td>66824.0</td>\n",
       "    </tr>\n",
       "    <tr>\n",
       "      <th>2020-01-17</th>\n",
       "      <td>5050.0</td>\n",
       "      <td>10.0</td>\n",
       "      <td>5060.0</td>\n",
       "      <td>5100.0</td>\n",
       "      <td>4965.0</td>\n",
       "      <td>52772.0</td>\n",
       "    </tr>\n",
       "    <tr>\n",
       "      <th>2020-01-16</th>\n",
       "      <td>5060.0</td>\n",
       "      <td>30.0</td>\n",
       "      <td>5070.0</td>\n",
       "      <td>5150.0</td>\n",
       "      <td>4985.0</td>\n",
       "      <td>61506.0</td>\n",
       "    </tr>\n",
       "    <tr>\n",
       "      <th>2020-01-15</th>\n",
       "      <td>5090.0</td>\n",
       "      <td>215.0</td>\n",
       "      <td>4875.0</td>\n",
       "      <td>5090.0</td>\n",
       "      <td>4830.0</td>\n",
       "      <td>114396.0</td>\n",
       "    </tr>\n",
       "    <tr>\n",
       "      <th>2020-01-14</th>\n",
       "      <td>4875.0</td>\n",
       "      <td>125.0</td>\n",
       "      <td>5090.0</td>\n",
       "      <td>5090.0</td>\n",
       "      <td>4860.0</td>\n",
       "      <td>91123.0</td>\n",
       "    </tr>\n",
       "    <tr>\n",
       "      <th>2020-01-13</th>\n",
       "      <td>5000.0</td>\n",
       "      <td>145.0</td>\n",
       "      <td>4800.0</td>\n",
       "      <td>5270.0</td>\n",
       "      <td>4800.0</td>\n",
       "      <td>221862.0</td>\n",
       "    </tr>\n",
       "    <tr>\n",
       "      <th>2020-01-10</th>\n",
       "      <td>4855.0</td>\n",
       "      <td>150.0</td>\n",
       "      <td>4705.0</td>\n",
       "      <td>4930.0</td>\n",
       "      <td>4685.0</td>\n",
       "      <td>126381.0</td>\n",
       "    </tr>\n",
       "  </tbody>\n",
       "</table>\n",
       "</div>"
      ],
      "text/plain": [
       "                종가    전일비      시가      고가      저가       거래량\n",
       "날짜                                                         \n",
       "2020-01-23  4615.0   80.0  4695.0  4710.0  4590.0   49820.0\n",
       "2020-01-22  4695.0  145.0  4780.0  4800.0  4645.0   81399.0\n",
       "2020-01-21  4840.0   75.0  4915.0  4965.0  4700.0   54413.0\n",
       "2020-01-20  4915.0  135.0  4955.0  5090.0  4910.0   66824.0\n",
       "2020-01-17  5050.0   10.0  5060.0  5100.0  4965.0   52772.0\n",
       "2020-01-16  5060.0   30.0  5070.0  5150.0  4985.0   61506.0\n",
       "2020-01-15  5090.0  215.0  4875.0  5090.0  4830.0  114396.0\n",
       "2020-01-14  4875.0  125.0  5090.0  5090.0  4860.0   91123.0\n",
       "2020-01-13  5000.0  145.0  4800.0  5270.0  4800.0  221862.0\n",
       "2020-01-10  4855.0  150.0  4705.0  4930.0  4685.0  126381.0"
      ]
     },
     "execution_count": 34,
     "metadata": {},
     "output_type": "execute_result"
    }
   ],
   "source": [
    "pd.read_sql_query('SELECT * FROM stock_day', con, parse_dates=['날짜'], index_col=['날짜'])"
   ]
  },
  {
   "cell_type": "code",
   "execution_count": null,
   "metadata": {},
   "outputs": [],
   "source": []
  }
 ],
 "metadata": {
  "kernelspec": {
   "display_name": "Python 3",
   "language": "python",
   "name": "python3"
  },
  "language_info": {
   "codemirror_mode": {
    "name": "ipython",
    "version": 3
   },
   "file_extension": ".py",
   "mimetype": "text/x-python",
   "name": "python",
   "nbconvert_exporter": "python",
   "pygments_lexer": "ipython3",
   "version": "3.7.4"
  }
 },
 "nbformat": 4,
 "nbformat_minor": 4
}
