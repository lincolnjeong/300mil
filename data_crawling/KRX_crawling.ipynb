{
 "cells": [
  {
   "cell_type": "code",
   "execution_count": 26,
   "metadata": {},
   "outputs": [],
   "source": [
    "from selenium import webdriver\n",
    "from bs4 import BeautifulSoup\n",
    "import requests\n",
    "import json"
   ]
  },
  {
   "cell_type": "code",
   "execution_count": 28,
   "metadata": {},
   "outputs": [],
   "source": [
    "url = 'http://marketdata.krx.co.kr/mdi#document=040201'"
   ]
  },
  {
   "cell_type": "code",
   "execution_count": 29,
   "metadata": {},
   "outputs": [],
   "source": [
    "driver = webdriver.Firefox()\n",
    "driver.get(url)\n",
    "driver.find_elements_by_css_selector('#finderbtna87ff679a2f3e71d9181a67b7542122c')[0].click()"
   ]
  },
  {
   "cell_type": "code",
   "execution_count": 49,
   "metadata": {},
   "outputs": [
    {
     "name": "stdout",
     "output_type": "stream",
     "text": [
      "\n",
      "\n",
      "\n",
      "\n",
      "\n",
      "\n",
      "\n",
      "\n",
      "\n",
      "\n",
      "\n",
      "\n",
      "\n",
      "\n",
      "\n"
     ]
    }
   ],
   "source": [
    "bs = BeautifulSoup(driver.page_source, \"html.parser\") \n",
    "mkd = bs.find(\"form\", {\"action\" : \"/contents/MKD/99/MKD99000001.jspx\", \n",
    "                       \"method\" : \"post\", \"data-bld\":\"COM/finder_stkisu\"})\n",
    "\n",
    "\n",
    "payload = {'no'\t: 'P1',\n",
    "           'mktsel' : 'ALL',\t\n",
    "           'pagePath' :\t'/contents/COM/FinderStkIsu.jsp'\n",
    "           }\n",
    "\n",
    "payload['code'] = mkd['data-code']\n",
    "\n",
    "mkd_list = []\n",
    "for page in range(1, 16):\n",
    "    payload['consonant'] = page\n",
    "    mkd_page = requests.post(\"http://marketdata.krx.co.kr/contents/MKD/99/MKD99000001.jspx\",  data=payload)\n",
    "    print(mkd_page.text)\n",
    "    mkd_list.append(mkd_page.text)"
   ]
  }
 ],
 "metadata": {
  "kernelspec": {
   "display_name": "Python 3",
   "language": "python",
   "name": "python3"
  },
  "language_info": {
   "codemirror_mode": {
    "name": "ipython",
    "version": 3
   },
   "file_extension": ".py",
   "mimetype": "text/x-python",
   "name": "python",
   "nbconvert_exporter": "python",
   "pygments_lexer": "ipython3",
   "version": "3.7.3"
  }
 },
 "nbformat": 4,
 "nbformat_minor": 4
}
