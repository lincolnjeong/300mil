{
 "cells": [
  {
   "cell_type": "code",
   "execution_count": 1,
   "metadata": {},
   "outputs": [],
   "source": [
    "from bs4 import BeautifulSoup\n",
    "import requests\n",
    "import json\n",
    "import pandas as pd\n",
    "import re"
   ]
  },
  {
   "cell_type": "code",
   "execution_count": 2,
   "metadata": {},
   "outputs": [],
   "source": [
    "url = 'https://finance.naver.com/news/mainnews.nhn'\n",
    "html = requests.get(url).text\n",
    "soup = BeautifulSoup(html, 'html.parser')"
   ]
  },
  {
   "cell_type": "code",
   "execution_count": 21,
   "metadata": {},
   "outputs": [
    {
     "data": {
      "text/plain": [
       "['\\n',\n",
       " '에듀윌 공인중개사 부동산공시법 김. .',\n",
       " '\\n',\n",
       " '삼일회계법인, 라임자산운용에 펀드 . .',\n",
       " '\\n',\n",
       " '[MBN Y 포럼 2020] 청년 \"내 미래, . .',\n",
       " '\\n',\n",
       " '\"과거 전염병보다 큰 피해 우려\"…정. .',\n",
       " '\\n',\n",
       " '\"코로나 위험 보장해 드립니다\"…불. .',\n",
       " '\\n',\n",
       " 'SK머티리얼즈 \"SK퍼포먼스머티리얼즈. .',\n",
       " '\\n',\n",
       " '[단독] 1년에 한 번뿐인데…\"자가 격. .',\n",
       " '\\n',\n",
       " '대신증권, 1050억 규모 무보증 후순. .',\n",
       " '\\n',\n",
       " '가온투자자문 ‘GAON 4차 VGS’, 한. .',\n",
       " '\\n',\n",
       " '[표]아시아 주요 증시 동향(2월 7일)',\n",
       " '\\n',\n",
       " '\\n',\n",
       " '\\n',\n",
       " '\\n',\n",
       " '\\n']"
      ]
     },
     "execution_count": 21,
     "metadata": {},
     "output_type": "execute_result"
    }
   ],
   "source": [
    "soup.dd.find_all(string=True)"
   ]
  },
  {
   "cell_type": "code",
   "execution_count": 37,
   "metadata": {},
   "outputs": [
    {
     "name": "stdout",
     "output_type": "stream",
     "text": [
      "0 <a href=\"/news/news_read.nhn?article_id=0003691463&amp;office_id=011&amp;mode=LSS3D&amp;type=0§ion_id=101§ion_id2=258§ion_id3=401\" title=\"에듀윌 공인중개사 부동산공시법 김민석 교수 “어려운 등기법, 쉽게 만들어 줄 것”\">에듀윌 공인중개사 부동산공시법 김. .</a>\n",
      "1 <a href=\"/news/news_read.nhn?article_id=0004571413&amp;office_id=018&amp;mode=LSS3D&amp;type=0§ion_id=101§ion_id2=258§ion_id3=401\" title=\"삼일회계법인, 라임자산운용에 펀드 실사결과 통보\">삼일회계법인, 라임자산운용에 펀드 . .</a>\n",
      "2 <a href=\"/news/news_read.nhn?article_id=0001418958&amp;office_id=057&amp;mode=LSS3D&amp;type=0§ion_id=101§ion_id2=258§ion_id3=401\" title='[MBN Y 포럼 2020] 청년 \"내 미래, 바꿀 수 있다\"…만반의 방역 대비'>[MBN Y 포럼 2020] 청년 \"내 미래, . .</a>\n",
      "3 <a href=\"/news/news_read.nhn?article_id=0001418952&amp;office_id=057&amp;mode=LSS3D&amp;type=0§ion_id=101§ion_id2=258§ion_id3=401\" title='\"과거 전염병보다 큰 피해 우려\"…정부 \"최대 지원\"'>\"과거 전염병보다 큰 피해 우려\"…정. .</a>\n",
      "4 <a href=\"/news/news_read.nhn?article_id=0001418950&amp;office_id=057&amp;mode=LSS3D&amp;type=0§ion_id=101§ion_id2=258§ion_id3=401\" title='\"코로나 위험 보장해 드립니다\"…불안 틈탄 상술 기승'>\"코로나 위험 보장해 드립니다\"…불. .</a>\n",
      "5 <a href=\"/news/news_read.nhn?article_id=0011386444&amp;office_id=001&amp;mode=LSS3D&amp;type=0§ion_id=101§ion_id2=258§ion_id3=401\" title='SK머티리얼즈 \"SK퍼포먼스머티리얼즈 주식 500억원에 취득\"'>SK머티리얼즈 \"SK퍼포먼스머티리얼즈. .</a>\n",
      "6 <a href=\"/news/news_read.nhn?article_id=0001418939&amp;office_id=057&amp;mode=LSS3D&amp;type=0§ion_id=101§ion_id2=258§ion_id3=401\" title='[단독] 1년에 한 번뿐인데…\"자가 격리자는 시험 보지 마라\"'>[단독] 1년에 한 번뿐인데…\"자가 격. .</a>\n",
      "7 <a href=\"/news/news_read.nhn?article_id=0002381615&amp;office_id=119&amp;mode=LSS3D&amp;type=0§ion_id=101§ion_id2=258§ion_id3=401\" title=\"대신증권, 1050억 규모 무보증 후순위채 발행\">대신증권, 1050억 규모 무보증 후순. .</a>\n",
      "8 <a href=\"/news/news_read.nhn?article_id=0001633271&amp;office_id=016&amp;mode=LSS3D&amp;type=0§ion_id=101§ion_id2=258§ion_id3=401\" title=\"가온투자자문 ‘GAON 4차 VGS’, 한달새 7.4% 수익률 기록\">가온투자자문 ‘GAON 4차 VGS’, 한. .</a>\n",
      "9 <a href=\"/news/news_read.nhn?article_id=0003691430&amp;office_id=011&amp;mode=LSS3D&amp;type=0§ion_id=101§ion_id2=258§ion_id3=401\" title=\"[표]아시아 주요 증시 동향(2월 7일)\">[표]아시아 주요 증시 동향(2월 7일)</a>\n",
      "10 <a href=\"/news/news_read.nhn?article_id=0004353764&amp;office_id=008&amp;mode=mainnews&amp;type=&amp;date=2020-02-07&amp;page=1\">[Asia마감]트럼프·시진핑 무역합의 재확인…中 반등</a>\n",
      "11 <a href=\"/news/news_read.nhn?article_id=0004620481&amp;office_id=277&amp;mode=mainnews&amp;type=&amp;date=2020-02-07&amp;page=1\">[유럽개장] 장 초반 하락세…英 FTSE 0.16%↓</a>\n",
      "12 <a href=\"/news/news_read.nhn?article_id=0004571269&amp;office_id=018&amp;mode=mainnews&amp;type=&amp;date=2020-02-07&amp;page=1\"><img onerror=\"this.src='https://ssl.pstatic.net/static/nfinance/2017/02/27/thumb_72x54.gif'\" src=\"https://imgnews.pstatic.net/image/thumb70/018/2020/02/07/4571269.jpg\"/></a>\n",
      "13 <a href=\"/news/news_read.nhn?article_id=0004571269&amp;office_id=018&amp;mode=mainnews&amp;type=&amp;date=2020-02-07&amp;page=1\">[외환마감]신종코로나 우려 지속..눈치보는 원·달러</a>\n",
      "14 <a href=\"/news/news_read.nhn?article_id=0009691371&amp;office_id=003&amp;mode=mainnews&amp;type=&amp;date=2020-02-07&amp;page=1\"><img onerror=\"this.src='https://ssl.pstatic.net/static/nfinance/2017/02/27/thumb_72x54.gif'\" src=\"https://imgnews.pstatic.net/image/thumb70/003/2020/02/07/9691371.jpg\"/></a>\n",
      "15 <a href=\"/news/news_read.nhn?article_id=0009691371&amp;office_id=003&amp;mode=mainnews&amp;type=&amp;date=2020-02-07&amp;page=1\">[마감시황]코스피, 기관 매도에 2210선 후퇴…나흘 만에 하락</a>\n",
      "16 <a href=\"/news/news_read.nhn?article_id=0004450758&amp;office_id=421&amp;mode=mainnews&amp;type=&amp;date=2020-02-07&amp;page=1\"><img onerror=\"this.src='https://ssl.pstatic.net/static/nfinance/2017/02/27/thumb_72x54.gif'\" src=\"https://imgnews.pstatic.net/image/thumb70/421/2020/02/07/4450758.jpg\"/></a>\n",
      "17 <a href=\"/news/news_read.nhn?article_id=0004450758&amp;office_id=421&amp;mode=mainnews&amp;type=&amp;date=2020-02-07&amp;page=1\">[시황종합] 코스피, 4거래일 만에 하락…기관 '팔자'</a>\n",
      "18 <a href=\"/news/news_read.nhn?article_id=0004571243&amp;office_id=018&amp;mode=mainnews&amp;type=&amp;date=2020-02-07&amp;page=1\"><img onerror=\"this.src='https://ssl.pstatic.net/static/nfinance/2017/02/27/thumb_72x54.gif'\" src=\"https://imgnews.pstatic.net/image/thumb70/018/2020/02/07/4571243.jpg\"/></a>\n",
      "19 <a href=\"/news/news_read.nhn?article_id=0004571243&amp;office_id=018&amp;mode=mainnews&amp;type=&amp;date=2020-02-07&amp;page=1\">[코스닥 마감]美경제지표 개선·신종코로나 혼재…670선 약보합</a>\n",
      "20 <a href=\"/news/news_read.nhn?article_id=0000473215&amp;office_id=366&amp;mode=mainnews&amp;type=&amp;date=2020-02-07&amp;page=1\"><img onerror=\"this.src='https://ssl.pstatic.net/static/nfinance/2017/02/27/thumb_72x54.gif'\" src=\"https://imgnews.pstatic.net/image/thumb70/366/2020/02/07/473215.jpg\"/></a>\n",
      "21 <a href=\"/news/news_read.nhn?article_id=0000473215&amp;office_id=366&amp;mode=mainnews&amp;type=&amp;date=2020-02-07&amp;page=1\">[마켓뷰] 다시 살아난 우한폐렴 공포… 한때 2200선 깨져</a>\n",
      "22 <a href=\"/news/news_read.nhn?article_id=0004353515&amp;office_id=008&amp;mode=mainnews&amp;type=&amp;date=2020-02-07&amp;page=1\">[Asia오전]급등 후 주춤…日 소프트뱅크는 '급등'</a>\n",
      "23 <a href=\"/news/news_read.nhn?article_id=0003691044&amp;office_id=011&amp;mode=mainnews&amp;type=&amp;date=2020-02-07&amp;page=1\"><img onerror=\"this.src='https://ssl.pstatic.net/static/nfinance/2017/02/27/thumb_72x54.gif'\" src=\"https://imgnews.pstatic.net/image/thumb70/011/2020/02/07/3691044.jpg\"/></a>\n",
      "24 <a href=\"/news/news_read.nhn?article_id=0003691044&amp;office_id=011&amp;mode=mainnews&amp;type=&amp;date=2020-02-07&amp;page=1\">[오전시황] 코스피·코스닥, 장 초반 약세</a>\n",
      "25 <a href=\"/news/news_read.nhn?article_id=0004570790&amp;office_id=018&amp;mode=mainnews&amp;type=&amp;date=2020-02-07&amp;page=1\"><img onerror=\"this.src='https://ssl.pstatic.net/static/nfinance/2017/02/27/thumb_72x54.gif'\" src=\"https://imgnews.pstatic.net/image/thumb70/018/2020/02/07/4570790.jpg\"/></a>\n",
      "26 <a href=\"/news/news_read.nhn?article_id=0004570790&amp;office_id=018&amp;mode=mainnews&amp;type=&amp;date=2020-02-07&amp;page=1\">[외환브리핑]美 고용지표 호조…달러 강세 쫓는 원화</a>\n",
      "27 <a href=\"/news/news_read.nhn?article_id=0004619882&amp;office_id=277&amp;mode=mainnews&amp;type=&amp;date=2020-02-07&amp;page=1\"><img onerror=\"this.src='https://ssl.pstatic.net/static/nfinance/2017/02/27/thumb_72x54.gif'\" src=\"https://imgnews.pstatic.net/image/thumb70/277/2020/02/07/4619882.jpg\"/></a>\n",
      "28 <a href=\"/news/news_read.nhn?article_id=0004619882&amp;office_id=277&amp;mode=mainnews&amp;type=&amp;date=2020-02-07&amp;page=1\">[굿모닝 증시]'中관세 인하' 뉴욕증시 사상 최고마감...국내 증시도 상승 예상</a>\n",
      "29 <a href=\"/news/news_read.nhn?article_id=0000501601&amp;office_id=417&amp;mode=mainnews&amp;type=&amp;date=2020-02-07&amp;page=1\"><img onerror=\"this.src='https://ssl.pstatic.net/static/nfinance/2017/02/27/thumb_72x54.gif'\" src=\"https://imgnews.pstatic.net/image/thumb70/417/2020/02/07/501601.jpg\"/></a>\n",
      "30 <a href=\"/news/news_read.nhn?article_id=0000501601&amp;office_id=417&amp;mode=mainnews&amp;type=&amp;date=2020-02-07&amp;page=1\">[유럽증시] 미·중 무역분쟁 완화 기대감에 상승세</a>\n",
      "31 <a href=\"/news/news_read.nhn?article_id=0004285946&amp;office_id=015&amp;mode=mainnews&amp;type=&amp;date=2020-02-07&amp;page=1\"><img onerror=\"this.src='https://ssl.pstatic.net/static/nfinance/2017/02/27/thumb_72x54.gif'\" src=\"https://imgnews.pstatic.net/image/thumb70/015/2020/02/07/4285946.jpg\"/></a>\n",
      "32 <a href=\"/news/news_read.nhn?article_id=0004285946&amp;office_id=015&amp;mode=mainnews&amp;type=&amp;date=2020-02-07&amp;page=1\">[김현석의 월스트리트나우] 美 대선에서 샌더스가 두렵지 않은 5가지 이유</a>\n",
      "33 <a href=\"/news/news_read.nhn?article_id=0004619859&amp;office_id=277&amp;mode=mainnews&amp;type=&amp;date=2020-02-07&amp;page=1\"><img onerror=\"this.src='https://ssl.pstatic.net/static/nfinance/2017/02/27/thumb_72x54.gif'\" src=\"https://imgnews.pstatic.net/image/thumb70/277/2020/02/07/4619859.jpg\"/></a>\n",
      "34 <a href=\"/news/news_read.nhn?article_id=0004619859&amp;office_id=277&amp;mode=mainnews&amp;type=&amp;date=2020-02-07&amp;page=1\">[일일펀드동향]韓채권형펀드, 4거래일간 1조2300억원 순유입</a>\n",
      "35 <a href=\"/news/news_read.nhn?article_id=0003690989&amp;office_id=011&amp;mode=mainnews&amp;type=&amp;date=2020-02-07&amp;page=1\"><img onerror=\"this.src='https://ssl.pstatic.net/static/nfinance/2017/02/27/thumb_72x54.gif'\" src=\"https://imgnews.pstatic.net/image/thumb70/011/2020/02/07/3690989.jpg\"/></a>\n",
      "36 <a href=\"/news/news_read.nhn?article_id=0003690989&amp;office_id=011&amp;mode=mainnews&amp;type=&amp;date=2020-02-07&amp;page=1\">[데일리 국제금융시장] 中 관세 인하·美 지표 호조에···3대 지수 또 사상 최고</a>\n",
      "37 <a href=\"/news/news_read.nhn?article_id=0004353288&amp;office_id=008&amp;mode=mainnews&amp;type=&amp;date=2020-02-07&amp;page=1\"><img onerror=\"this.src='https://ssl.pstatic.net/static/nfinance/2017/02/27/thumb_72x54.gif'\" src=\"https://imgnews.pstatic.net/image/thumb70/008/2020/02/07/4353288.jpg\"/></a>\n",
      "38 <a href=\"/news/news_read.nhn?article_id=0004353288&amp;office_id=008&amp;mode=mainnews&amp;type=&amp;date=2020-02-07&amp;page=1\">[뉴욕마감] 中, 미국산 관세 인하…일제히 사상최고치</a>\n",
      "39 <a href=\"/news/news_read.nhn?article_id=0004285927&amp;office_id=015&amp;mode=mainnews&amp;type=&amp;date=2020-02-07&amp;page=1\"><img onerror=\"this.src='https://ssl.pstatic.net/static/nfinance/2017/02/27/thumb_72x54.gif'\" src=\"https://imgnews.pstatic.net/image/thumb70/015/2020/02/07/4285927.jpg\"/></a>\n",
      "40 <a href=\"/news/news_read.nhn?article_id=0004285927&amp;office_id=015&amp;mode=mainnews&amp;type=&amp;date=2020-02-07&amp;page=1\">[모닝브리핑]금감원, 우리은행 비번 도용 1년 넘게 '은폐'…뉴욕 증시 최고가 마감</a>\n",
      "41 <a href=\"/news/news_read.nhn?article_id=0004353254&amp;office_id=008&amp;mode=mainnews&amp;type=&amp;date=2020-02-07&amp;page=1\"><img onerror=\"this.src='https://ssl.pstatic.net/static/nfinance/2017/02/27/thumb_72x54.gif'\" src=\"https://imgnews.pstatic.net/image/thumb70/008/2020/02/07/4353254.jpg\"/></a>\n",
      "42 <a href=\"/news/news_read.nhn?article_id=0004353254&amp;office_id=008&amp;mode=mainnews&amp;type=&amp;date=2020-02-07&amp;page=1\">[유럽마감] 中, 대미 관세 인하에 랠리…스톡스 0.4%↑</a>\n",
      "43 <a href=\"/news/news_read.nhn?article_id=0004570688&amp;office_id=018&amp;mode=mainnews&amp;type=&amp;date=2020-02-07&amp;page=1\"><img onerror=\"this.src='https://ssl.pstatic.net/static/nfinance/2017/02/27/thumb_72x54.gif'\" src=\"https://imgnews.pstatic.net/image/thumb70/018/2020/02/07/4570688.jpg\"/></a>\n",
      "44 <a href=\"/news/news_read.nhn?article_id=0004570688&amp;office_id=018&amp;mode=mainnews&amp;type=&amp;date=2020-02-07&amp;page=1\">[유럽증시]中의 '對美 관세인하' 영향…상승</a>\n",
      "45 <a href=\"/news/news_read.nhn?article_id=0004513384&amp;office_id=009&amp;mode=mainnews&amp;type=&amp;date=2020-02-07&amp;page=1\"><img onerror=\"this.src='https://ssl.pstatic.net/static/nfinance/2017/02/27/thumb_72x54.gif'\" src=\"https://imgnews.pstatic.net/image/thumb70/009/2020/02/07/4513384.jpg\"/></a>\n",
      "46 <a href=\"/news/news_read.nhn?article_id=0004513384&amp;office_id=009&amp;mode=mainnews&amp;type=&amp;date=2020-02-07&amp;page=1\">[빅데이터로 본 재테크] 코로나 파장 길어져…2차전지 성장성에 전기차株 `핫`</a>\n",
      "47 <a href=\"/news/news_read.nhn?article_id=0003506009&amp;office_id=023&amp;mode=RANK&amp;typ=0\" onclick=\"clickcr(this, 'rnw.list', '0003506009', '1', event)\" title='\"증시 이미 바닥 통과… 상반기엔 오를 것\"'>\"증시 이미 바닥 통과… 상반기엔 오를 것\"</a>\n",
      "48 <a href=\"/news/news_read.nhn?article_id=0004353764&amp;office_id=008&amp;mode=RANK&amp;typ=0\" onclick=\"clickcr(this, 'rnw.list', '0004353764', '2', event)\" title=\"[Asia마감]트럼프·시진핑 무역합의 재확인…中 반등\">[Asia마감]트럼프·시진핑 무역합의 재확인…中 반등</a>\n",
      "49 <a href=\"/news/news_read.nhn?article_id=0004513384&amp;office_id=009&amp;mode=RANK&amp;typ=0\" onclick=\"clickcr(this, 'rnw.list', '0004513384', '3', event)\" title=\"[빅데이터로 본 재테크] 코로나 파장 길어져…2차전지 성장성에 전기차株 `핫`\">[빅데이터로 본 재테크] 코로나 파장 길어져…2차전지 성장성에 전기차株 `핫`</a>\n",
      "50 <a href=\"/news/news_read.nhn?article_id=0004353251&amp;office_id=008&amp;mode=RANK&amp;typ=0\" onclick=\"clickcr(this, 'rnw.list', '0004353251', '4', event)\" title=\"바이오·화장품社로 변신하는 상장사들\">바이오·화장품社로 변신하는 상장사들</a>\n",
      "51 <a href=\"/news/news_read.nhn?article_id=0000473215&amp;office_id=366&amp;mode=RANK&amp;typ=0\" onclick=\"clickcr(this, 'rnw.list', '0000473215', '5', event)\" title=\"[마켓뷰] 다시 살아난 우한폐렴 공포… 한때 2200선 깨져\">[마켓뷰] 다시 살아난 우한폐렴 공포… 한때 2200선 깨져</a>\n",
      "52 <a href=\"/news/news_read.nhn?article_id=0003691428&amp;office_id=011&amp;mode=RANK&amp;typ=0\" onclick=\"clickcr(this, 'rnw.list', '0003691428', '6', event)\" title=\"장 마감 후 기업공시[2월 7일]\">장 마감 후 기업공시[2월 7일]</a>\n",
      "53 <a href=\"/news/news_read.nhn?article_id=0004353791&amp;office_id=008&amp;mode=RANK&amp;typ=0\" onclick=\"clickcr(this, 'rnw.list', '0004353791', '7', event)\" title=\"국민연금, 대한항공 지분율 10.99%로 상승..보유목적 변경\">국민연금, 대한항공 지분율 10.99%로 상승..보유목적 변경</a>\n",
      "54 <a href=\"/news/news_read.nhn?article_id=0004571269&amp;office_id=018&amp;mode=RANK&amp;typ=0\" onclick=\"clickcr(this, 'rnw.list', '0004571269', '8', event)\" title=\"[외환마감]신종코로나 우려 지속..눈치보는 원·달러\">[외환마감]신종코로나 우려 지속..눈치보는 원·달러</a>\n"
     ]
    }
   ],
   "source": [
    "for index, link in enumerate(soup.findAll(\"a\", href=re.compile(\"^/news/news_read.nhn.\"))):\n",
    "    if 'href' in link.attrs:\n",
    "        print(index, link)"
   ]
  }
 ],
 "metadata": {
  "kernelspec": {
   "display_name": "Python 3",
   "language": "python",
   "name": "python3"
  },
  "language_info": {
   "codemirror_mode": {
    "name": "ipython",
    "version": 3
   },
   "file_extension": ".py",
   "mimetype": "text/x-python",
   "name": "python",
   "nbconvert_exporter": "python",
   "pygments_lexer": "ipython3",
   "version": "3.7.3"
  }
 },
 "nbformat": 4,
 "nbformat_minor": 4
}
