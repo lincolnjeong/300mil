{
 "cells": [
  {
   "cell_type": "code",
   "execution_count": 1,
   "metadata": {},
   "outputs": [],
   "source": [
    "from bs4 import BeautifulSoup\n",
    "import requests\n",
    "import json\n",
    "import pandas as pd\n",
    "import re\n",
    "import numpy as np\n",
    "from nltk.corpus import stopwords"
   ]
  },
  {
   "cell_type": "code",
   "execution_count": 2,
   "metadata": {},
   "outputs": [],
   "source": [
    "url = 'https://finance.naver.com/news/mainnews.nhn'\n",
    "html = requests.get(url).text\n",
    "soup = BeautifulSoup(html, 'html.parser')"
   ]
  },
  {
   "cell_type": "code",
   "execution_count": 3,
   "metadata": {},
   "outputs": [],
   "source": [
    "headline = []\n",
    "for index, link in enumerate(soup.findAll(\"a\", href=re.compile(\"^/news/news_read.nhn.\"))):\n",
    "    if 'href' in link.attrs and link.get('title') != None:\n",
    "        headline.append(link.get('title'))"
   ]
  },
  {
   "cell_type": "code",
   "execution_count": 4,
   "metadata": {},
   "outputs": [
    {
     "data": {
      "text/plain": [
       "['[단독] 홈쇼핑 마스크 완판 행진…정부, 공급 대책없이 유인책만',\n",
       " '이틀째 추가 확진자 0…의심환자는 939명으로 급증',\n",
       " \"[주간증시 리뷰]'신종 코로나 충격' 회복 조짐 보인 코스피\",\n",
       " '신풍제약 두자릿수 급락… 외인·기관 던지고, 개인 받았다',\n",
       " 'KT, 올해 실적 회복기 진입 기대',\n",
       " '엠플러스, 연매출 1000억원 돌파…전년비 33.5% 상승',\n",
       " '[주목!e스몰캡]이노와이어리스, 5G 해외투자 사이클이 온다',\n",
       " '\"여의도 신바람\"…증시부진 뚫고 너도나도 \\'최대실적\\'',\n",
       " '엠플러스, 지난해 영업이익 31억원… 매출도 1000억원 돌파',\n",
       " \"난기류 맞은 항공업계... 티웨이항공 홀로 ‘선방'\",\n",
       " '[뉴욕마감] \"中 성장률 0% 추락할 것\"…다우 0.9% 뚝',\n",
       " '\"삼성SDI, 올해 영업익 80% 증가 예상.. 목표가↑\" DB금융투자',\n",
       " '[증시풍향계] 중국, 신종코로나 충격 극복할 경기부양 나설까',\n",
       " '[주간추천주]SK증권',\n",
       " '신풍제약 두자릿수 급락… 외인·기관 던지고, 개인 받았다',\n",
       " '[주간추천주]유안타증권',\n",
       " '[富를 키우는 투자지표]`저 세상 주식` 테슬라..거품 빠진 뒤에는',\n",
       " \"[주간증시 리뷰]'신종 코로나 충격' 회복 조짐 보인 코스피\"]"
      ]
     },
     "execution_count": 4,
     "metadata": {},
     "output_type": "execute_result"
    }
   ],
   "source": [
    "headline"
   ]
  },
  {
   "cell_type": "code",
   "execution_count": 5,
   "metadata": {},
   "outputs": [],
   "source": [
    "# removing functuation\n",
    "def remove_punctuation(text):\n",
    "    import string\n",
    "    # replacing the puntuations with no space,\n",
    "    # which in effect deletes the punctuation marks\n",
    "    translator = str.maketrans(' ', ' ', string.punctuation)\n",
    "    # return the text stripped of punctuation marks\n",
    "    return text.translate(translator)"
   ]
  },
  {
   "cell_type": "code",
   "execution_count": 6,
   "metadata": {},
   "outputs": [
    {
     "name": "stdout",
     "output_type": "stream",
     "text": [
      "Number of stopwords: 6800\n",
      "Number of stopwords_ko: 675\n",
      "Number of stopwords_total: 7475\n"
     ]
    }
   ],
   "source": [
    "# extract the stop words\n",
    "# extracting the stopwords\n",
    "sw = stopwords.words()\n",
    "print(f'Number of stopwords: {len(sw)}')\n",
    "stopwords_ko = [line.replace('\\n', '') for line in open('./meta/stopwords_ko', 'r').readlines()]\n",
    "print(f'Number of stopwords_ko: {len(stopwords_ko)}')\n",
    "stopwords_total = stopwords_ko + sw\n",
    "print(f'Number of stopwords_total: {len(stopwords_total)}')\n",
    "# removing stopwords\n",
    "def remove_stopwords(text):\n",
    "    # removing the stop words and lowercasing the selected words\n",
    "    text = [word for word in text.split() if word.lower() not in sw]\n",
    "    # joining the list of words with space separator\n",
    "    return \" \".join(text)"
   ]
  },
  {
   "cell_type": "code",
   "execution_count": 7,
   "metadata": {},
   "outputs": [],
   "source": [
    "evaluation = pd.DataFrame()\n",
    "evaluation['headline'] = headline\n",
    "evaluation['tokenization'] = [re.sub(r'[^A-Za-z0-9가-힣一-龥]', ' ', i) for i in evaluation.headline]\n",
    "evaluation['tokenization'] = evaluation['tokenization'].apply(remove_punctuation).apply(remove_stopwords)\n",
    "evaluation['tokenization'] = [i.split(' ') for i in evaluation['tokenization']]"
   ]
  },
  {
   "cell_type": "code",
   "execution_count": 8,
   "metadata": {},
   "outputs": [
    {
     "data": {
      "text/html": [
       "<div>\n",
       "<style scoped>\n",
       "    .dataframe tbody tr th:only-of-type {\n",
       "        vertical-align: middle;\n",
       "    }\n",
       "\n",
       "    .dataframe tbody tr th {\n",
       "        vertical-align: top;\n",
       "    }\n",
       "\n",
       "    .dataframe thead th {\n",
       "        text-align: right;\n",
       "    }\n",
       "</style>\n",
       "<table border=\"1\" class=\"dataframe\">\n",
       "  <thead>\n",
       "    <tr style=\"text-align: right;\">\n",
       "      <th></th>\n",
       "      <th>headline</th>\n",
       "      <th>tokenization</th>\n",
       "    </tr>\n",
       "  </thead>\n",
       "  <tbody>\n",
       "    <tr>\n",
       "      <th>0</th>\n",
       "      <td>[단독] 홈쇼핑 마스크 완판 행진…정부, 공급 대책없이 유인책만</td>\n",
       "      <td>[단독, 홈쇼핑, 마스크, 완판, 행진, 정부, 공급, 대책없이, 유인책만]</td>\n",
       "    </tr>\n",
       "    <tr>\n",
       "      <th>1</th>\n",
       "      <td>이틀째 추가 확진자 0…의심환자는 939명으로 급증</td>\n",
       "      <td>[이틀째, 추가, 확진자, 0, 의심환자는, 939명으로, 급증]</td>\n",
       "    </tr>\n",
       "    <tr>\n",
       "      <th>2</th>\n",
       "      <td>[주간증시 리뷰]'신종 코로나 충격' 회복 조짐 보인 코스피</td>\n",
       "      <td>[주간증시, 리뷰, 신종, 코로나, 충격, 회복, 조짐, 보인, 코스피]</td>\n",
       "    </tr>\n",
       "    <tr>\n",
       "      <th>3</th>\n",
       "      <td>신풍제약 두자릿수 급락… 외인·기관 던지고, 개인 받았다</td>\n",
       "      <td>[신풍제약, 두자릿수, 급락, 외인, 기관, 던지고, 개인, 받았다]</td>\n",
       "    </tr>\n",
       "    <tr>\n",
       "      <th>4</th>\n",
       "      <td>KT, 올해 실적 회복기 진입 기대</td>\n",
       "      <td>[KT, 올해, 실적, 회복기, 진입, 기대]</td>\n",
       "    </tr>\n",
       "    <tr>\n",
       "      <th>5</th>\n",
       "      <td>엠플러스, 연매출 1000억원 돌파…전년비 33.5% 상승</td>\n",
       "      <td>[엠플러스, 연매출, 1000억원, 돌파, 전년비, 33, 5, 상승]</td>\n",
       "    </tr>\n",
       "    <tr>\n",
       "      <th>6</th>\n",
       "      <td>[주목!e스몰캡]이노와이어리스, 5G 해외투자 사이클이 온다</td>\n",
       "      <td>[주목, e스몰캡, 이노와이어리스, 5G, 해외투자, 사이클이, 온다]</td>\n",
       "    </tr>\n",
       "    <tr>\n",
       "      <th>7</th>\n",
       "      <td>\"여의도 신바람\"…증시부진 뚫고 너도나도 '최대실적'</td>\n",
       "      <td>[여의도, 신바람, 증시부진, 뚫고, 너도나도, 최대실적]</td>\n",
       "    </tr>\n",
       "    <tr>\n",
       "      <th>8</th>\n",
       "      <td>엠플러스, 지난해 영업이익 31억원… 매출도 1000억원 돌파</td>\n",
       "      <td>[엠플러스, 지난해, 영업이익, 31억원, 매출도, 1000억원, 돌파]</td>\n",
       "    </tr>\n",
       "    <tr>\n",
       "      <th>9</th>\n",
       "      <td>난기류 맞은 항공업계... 티웨이항공 홀로 ‘선방'</td>\n",
       "      <td>[난기류, 맞은, 항공업계, 티웨이항공, 홀로, 선방]</td>\n",
       "    </tr>\n",
       "    <tr>\n",
       "      <th>10</th>\n",
       "      <td>[뉴욕마감] \"中 성장률 0% 추락할 것\"…다우 0.9% 뚝</td>\n",
       "      <td>[뉴욕마감, 中, 성장률, 0, 추락할, 것, 다우, 0, 9, 뚝]</td>\n",
       "    </tr>\n",
       "    <tr>\n",
       "      <th>11</th>\n",
       "      <td>\"삼성SDI, 올해 영업익 80% 증가 예상.. 목표가↑\" DB금융투자</td>\n",
       "      <td>[삼성SDI, 올해, 영업익, 80, 증가, 예상, 목표가, DB금융투자]</td>\n",
       "    </tr>\n",
       "    <tr>\n",
       "      <th>12</th>\n",
       "      <td>[증시풍향계] 중국, 신종코로나 충격 극복할 경기부양 나설까</td>\n",
       "      <td>[증시풍향계, 중국, 신종코로나, 충격, 극복할, 경기부양, 나설까]</td>\n",
       "    </tr>\n",
       "    <tr>\n",
       "      <th>13</th>\n",
       "      <td>[주간추천주]SK증권</td>\n",
       "      <td>[주간추천주, SK증권]</td>\n",
       "    </tr>\n",
       "    <tr>\n",
       "      <th>14</th>\n",
       "      <td>신풍제약 두자릿수 급락… 외인·기관 던지고, 개인 받았다</td>\n",
       "      <td>[신풍제약, 두자릿수, 급락, 외인, 기관, 던지고, 개인, 받았다]</td>\n",
       "    </tr>\n",
       "    <tr>\n",
       "      <th>15</th>\n",
       "      <td>[주간추천주]유안타증권</td>\n",
       "      <td>[주간추천주, 유안타증권]</td>\n",
       "    </tr>\n",
       "    <tr>\n",
       "      <th>16</th>\n",
       "      <td>[富를 키우는 투자지표]`저 세상 주식` 테슬라..거품 빠진 뒤에는</td>\n",
       "      <td>[富를, 키우는, 투자지표, 저, 세상, 주식, 테슬라, 거품, 빠진, 뒤에는]</td>\n",
       "    </tr>\n",
       "    <tr>\n",
       "      <th>17</th>\n",
       "      <td>[주간증시 리뷰]'신종 코로나 충격' 회복 조짐 보인 코스피</td>\n",
       "      <td>[주간증시, 리뷰, 신종, 코로나, 충격, 회복, 조짐, 보인, 코스피]</td>\n",
       "    </tr>\n",
       "  </tbody>\n",
       "</table>\n",
       "</div>"
      ],
      "text/plain": [
       "                                   headline  \\\n",
       "0       [단독] 홈쇼핑 마스크 완판 행진…정부, 공급 대책없이 유인책만   \n",
       "1              이틀째 추가 확진자 0…의심환자는 939명으로 급증   \n",
       "2         [주간증시 리뷰]'신종 코로나 충격' 회복 조짐 보인 코스피   \n",
       "3           신풍제약 두자릿수 급락… 외인·기관 던지고, 개인 받았다   \n",
       "4                       KT, 올해 실적 회복기 진입 기대   \n",
       "5          엠플러스, 연매출 1000억원 돌파…전년비 33.5% 상승   \n",
       "6         [주목!e스몰캡]이노와이어리스, 5G 해외투자 사이클이 온다   \n",
       "7             \"여의도 신바람\"…증시부진 뚫고 너도나도 '최대실적'   \n",
       "8        엠플러스, 지난해 영업이익 31억원… 매출도 1000억원 돌파   \n",
       "9              난기류 맞은 항공업계... 티웨이항공 홀로 ‘선방'   \n",
       "10        [뉴욕마감] \"中 성장률 0% 추락할 것\"…다우 0.9% 뚝   \n",
       "11  \"삼성SDI, 올해 영업익 80% 증가 예상.. 목표가↑\" DB금융투자   \n",
       "12        [증시풍향계] 중국, 신종코로나 충격 극복할 경기부양 나설까   \n",
       "13                              [주간추천주]SK증권   \n",
       "14          신풍제약 두자릿수 급락… 외인·기관 던지고, 개인 받았다   \n",
       "15                             [주간추천주]유안타증권   \n",
       "16    [富를 키우는 투자지표]`저 세상 주식` 테슬라..거품 빠진 뒤에는   \n",
       "17        [주간증시 리뷰]'신종 코로나 충격' 회복 조짐 보인 코스피   \n",
       "\n",
       "                                    tokenization  \n",
       "0     [단독, 홈쇼핑, 마스크, 완판, 행진, 정부, 공급, 대책없이, 유인책만]  \n",
       "1           [이틀째, 추가, 확진자, 0, 의심환자는, 939명으로, 급증]  \n",
       "2       [주간증시, 리뷰, 신종, 코로나, 충격, 회복, 조짐, 보인, 코스피]  \n",
       "3         [신풍제약, 두자릿수, 급락, 외인, 기관, 던지고, 개인, 받았다]  \n",
       "4                      [KT, 올해, 실적, 회복기, 진입, 기대]  \n",
       "5        [엠플러스, 연매출, 1000억원, 돌파, 전년비, 33, 5, 상승]  \n",
       "6        [주목, e스몰캡, 이노와이어리스, 5G, 해외투자, 사이클이, 온다]  \n",
       "7               [여의도, 신바람, 증시부진, 뚫고, 너도나도, 최대실적]  \n",
       "8       [엠플러스, 지난해, 영업이익, 31억원, 매출도, 1000억원, 돌파]  \n",
       "9                 [난기류, 맞은, 항공업계, 티웨이항공, 홀로, 선방]  \n",
       "10        [뉴욕마감, 中, 성장률, 0, 추락할, 것, 다우, 0, 9, 뚝]  \n",
       "11     [삼성SDI, 올해, 영업익, 80, 증가, 예상, 목표가, DB금융투자]  \n",
       "12        [증시풍향계, 중국, 신종코로나, 충격, 극복할, 경기부양, 나설까]  \n",
       "13                                 [주간추천주, SK증권]  \n",
       "14        [신풍제약, 두자릿수, 급락, 외인, 기관, 던지고, 개인, 받았다]  \n",
       "15                                [주간추천주, 유안타증권]  \n",
       "16  [富를, 키우는, 투자지표, 저, 세상, 주식, 테슬라, 거품, 빠진, 뒤에는]  \n",
       "17      [주간증시, 리뷰, 신종, 코로나, 충격, 회복, 조짐, 보인, 코스피]  "
      ]
     },
     "execution_count": 8,
     "metadata": {},
     "output_type": "execute_result"
    }
   ],
   "source": [
    "evaluation"
   ]
  },
  {
   "cell_type": "code",
   "execution_count": 9,
   "metadata": {},
   "outputs": [],
   "source": [
    "negative = [line.replace('\\n', '') for line in open('./meta/negative', 'r').readlines()]\n",
    "positive = [line.replace('\\n', '') for line in open('./meta/positive', 'r').readlines()]\n",
    "sentimental = pd.read_csv('./meta/sentimental', sep='\\t')"
   ]
  },
  {
   "cell_type": "code",
   "execution_count": 10,
   "metadata": {},
   "outputs": [
    {
     "data": {
      "text/plain": [
       "(['가난', '가난뱅이', '가난살이', '가난살이하다', '가난설음'],\n",
       " ['(-;', '(^^)', '(^-^)', '(^^*', '(^_^)'])"
      ]
     },
     "execution_count": 10,
     "metadata": {},
     "output_type": "execute_result"
    }
   ],
   "source": [
    "negative[:5], positive[:5]"
   ]
  },
  {
   "cell_type": "code",
   "execution_count": 11,
   "metadata": {},
   "outputs": [
    {
     "data": {
      "text/html": [
       "<div>\n",
       "<style scoped>\n",
       "    .dataframe tbody tr th:only-of-type {\n",
       "        vertical-align: middle;\n",
       "    }\n",
       "\n",
       "    .dataframe tbody tr th {\n",
       "        vertical-align: top;\n",
       "    }\n",
       "\n",
       "    .dataframe thead th {\n",
       "        text-align: right;\n",
       "    }\n",
       "</style>\n",
       "<table border=\"1\" class=\"dataframe\">\n",
       "  <thead>\n",
       "    <tr style=\"text-align: right;\">\n",
       "      <th></th>\n",
       "      <th>keyword</th>\n",
       "      <th>score</th>\n",
       "    </tr>\n",
       "  </thead>\n",
       "  <tbody>\n",
       "    <tr>\n",
       "      <th>0</th>\n",
       "      <td>(-;</td>\n",
       "      <td>1</td>\n",
       "    </tr>\n",
       "    <tr>\n",
       "      <th>1</th>\n",
       "      <td>(;_;)</td>\n",
       "      <td>-1</td>\n",
       "    </tr>\n",
       "    <tr>\n",
       "      <th>2</th>\n",
       "      <td>(^^)</td>\n",
       "      <td>1</td>\n",
       "    </tr>\n",
       "    <tr>\n",
       "      <th>3</th>\n",
       "      <td>(^-^)</td>\n",
       "      <td>1</td>\n",
       "    </tr>\n",
       "    <tr>\n",
       "      <th>4</th>\n",
       "      <td>(^^*</td>\n",
       "      <td>1</td>\n",
       "    </tr>\n",
       "  </tbody>\n",
       "</table>\n",
       "</div>"
      ],
      "text/plain": [
       "  keyword  score\n",
       "0     (-;      1\n",
       "1   (;_;)     -1\n",
       "2    (^^)      1\n",
       "3   (^-^)      1\n",
       "4    (^^*      1"
      ]
     },
     "execution_count": 11,
     "metadata": {},
     "output_type": "execute_result"
    }
   ],
   "source": [
    "sentimental.head(5)"
   ]
  },
  {
   "cell_type": "code",
   "execution_count": null,
   "metadata": {},
   "outputs": [],
   "source": []
  }
 ],
 "metadata": {
  "kernelspec": {
   "display_name": "Python 3",
   "language": "python",
   "name": "python3"
  },
  "language_info": {
   "codemirror_mode": {
    "name": "ipython",
    "version": 3
   },
   "file_extension": ".py",
   "mimetype": "text/x-python",
   "name": "python",
   "nbconvert_exporter": "python",
   "pygments_lexer": "ipython3",
   "version": "3.6.8"
  }
 },
 "nbformat": 4,
 "nbformat_minor": 4
}
