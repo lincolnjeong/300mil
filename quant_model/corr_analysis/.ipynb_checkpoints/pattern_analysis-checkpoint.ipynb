{
 "cells": [
  {
   "cell_type": "code",
   "execution_count": 1,
   "metadata": {},
   "outputs": [
    {
     "name": "stderr",
     "output_type": "stream",
     "text": [
      "/Users/lincolnjeong/opt/anaconda3/lib/python3.7/site-packages/pandas_datareader/compat/__init__.py:7: FutureWarning: pandas.util.testing is deprecated. Use the functions in the public API at pandas.testing instead.\n",
      "  from pandas.util.testing import assert_frame_equal\n"
     ]
    }
   ],
   "source": [
    "import pandas as pd\n",
    "import pandas_datareader as pdr\n",
    "from bs4 import BeautifulSoup\n",
    "import requests\n",
    "import json\n",
    "import re\n",
    "import numpy as np\n",
    "from nltk.corpus import stopwords\n",
    "from pandas_datareader import data\n",
    "import datetime"
   ]
  },
  {
   "cell_type": "markdown",
   "metadata": {},
   "source": [
    "# prepare codemap"
   ]
  },
  {
   "cell_type": "code",
   "execution_count": 2,
   "metadata": {},
   "outputs": [],
   "source": [
    "# 종목 타입에 따라 download url이 다름. 종목코드 뒤에 .KS .KQ등이 입력되어야해서 Download Link 구분 필요\n",
    "stock_type = {\n",
    "    'kospi': 'stockMkt',\n",
    "    'kosdaq': 'kosdaqMkt'\n",
    "    }\n",
    "\n",
    "# download url 조합\n",
    "def get_download_stock(market_type=None):\n",
    "    market_type = stock_type[market_type]\n",
    "    download_link = 'http://kind.krx.co.kr/corpgeneral/corpList.do'\n",
    "    download_link = download_link + '?method=download'\n",
    "    download_link = download_link + '&marketType=' + market_type\n",
    "    df = pd.read_html(download_link, header=0)[0]\n",
    "    return df;\n",
    "# kospi 종목코드 목록 다운로드\n",
    "def get_download_kospi():\n",
    "    df = get_download_stock('kospi')\n",
    "    df.종목코드 = df.종목코드.map('{:06d}'.format)\n",
    "    return df\n",
    "# kosdaq 종목코드 목록 다운로드\n",
    "def get_download_kosdaq():\n",
    "    df = get_download_stock('kosdaq')\n",
    "    df.종목코드 = df.종목코드.map('{:06d}'.format)\n",
    "    return df\n",
    "# kospi, kosdaq 종목코드 각각 다운로드\n",
    "kospi_df = get_download_kospi()\n",
    "kosdaq_df = get_download_kosdaq()\n",
    "# data frame merge\n",
    "code_df = pd.concat([kospi_df, kosdaq_df])\n",
    "# data frame정리\n",
    "code_df = code_df[['회사명', '종목코드']]\n",
    "# data frame title 변경 '회사명' = name, 종목코드 = 'code'\n",
    "code_df = code_df.rename(columns={'회사명': 'name', '종목코드': 'code'})"
   ]
  },
  {
   "cell_type": "markdown",
   "metadata": {},
   "source": [
    "# read headlines(daum news)"
   ]
  },
  {
   "cell_type": "code",
   "execution_count": 3,
   "metadata": {},
   "outputs": [],
   "source": [
    "p_dict = ['↑', '급상승', '상승', '올랐다', '오름세', '호재', '안착', '대박', '기회', '잡았나', '출발', '반등', '사자', '급등', '승부', '증가', '최고치', '안정적', '등재', 'buy', '개선']\n",
    "n_dict = ['↓', '상장폐지', '뚝', '관리종목', '주의보', '낚시', '우려', '둔화', '공포', '사임', '어렵다', '어려운 ', '썰렁', '손실', '적자', '과징금', '하락', '약화', '애로']\n",
    "stopword = ['이다', '너무', '은', '는', '이', '가', '을', '를', '에', '게', '도', '行', '\"', \"'\", '.', '[', ']', ',']"
   ]
  },
  {
   "cell_type": "code",
   "execution_count": 4,
   "metadata": {},
   "outputs": [],
   "source": [
    "def get_news(date_list):\n",
    "    news = pd.DataFrame()\n",
    "    for date in date_list:\n",
    "        headline = []\n",
    "        for page in range(1, 1000):\n",
    "            url = f'https://news.daum.net/breakingnews/economic?page={page}&regDate={date}'\n",
    "            html = requests.get(url).text\n",
    "            soup = BeautifulSoup(html, 'html.parser')\n",
    "\n",
    "            if len(soup.findAll(\"a\", href=re.compile(\"https://v.daum.net/v/\"))) is 0:\n",
    "                break\n",
    "            else:\n",
    "                for index, link in enumerate(soup.findAll(\"a\", href=re.compile(\"https://v.daum.net/v/\"))):\n",
    "                    if (link.text != None):\n",
    "                        headline.append(link.text)\n",
    "\n",
    "        headlines = set(list(headline))\n",
    "        df = pd.DataFrame(headlines, columns=['headline'])\n",
    "        df['date'] = date\n",
    "        news = pd.concat([news, df])\n",
    "    return news"
   ]
  },
  {
   "cell_type": "code",
   "execution_count": 5,
   "metadata": {},
   "outputs": [],
   "source": [
    "def p_scoring(text):\n",
    "    score = 0\n",
    "    for keyword in p_dict:\n",
    "        if keyword in text:\n",
    "            score += 1\n",
    "    return score\n",
    "\n",
    "def n_scoring(text):\n",
    "    score = 0\n",
    "    for keyword in n_dict:\n",
    "        if keyword in text:\n",
    "            score += 1\n",
    "    return score"
   ]
  },
  {
   "cell_type": "code",
   "execution_count": 6,
   "metadata": {},
   "outputs": [],
   "source": [
    "def sw(text):\n",
    "    for i in stopword:\n",
    "        if i in text:\n",
    "            text = text.replace(i, ' ')\n",
    "    return text"
   ]
  },
  {
   "cell_type": "code",
   "execution_count": 7,
   "metadata": {},
   "outputs": [],
   "source": [
    "# 회사명으로 주식 종목 코드를 획득할 수 있도록 하는 함수\n",
    "def get_code(df, name):\n",
    "    try:\n",
    "        if len(df.query(f\"name=='{name}'\")['code']) == 0:\n",
    "            return False\n",
    "        else:\n",
    "            code = df.query(f\"name=='{name}'\")['code'].to_string(index=False)\n",
    "            # 위와같이 code명을 가져오면 앞에 공백이 붙어있는 상황이 발생하여 앞뒤로 sript() 하여 공백 제거\n",
    "            code = code.strip()\n",
    "            return code\n",
    "    except:\n",
    "        print(name)"
   ]
  },
  {
   "cell_type": "code",
   "execution_count": 8,
   "metadata": {},
   "outputs": [],
   "source": [
    "def is_code(text):\n",
    "    tokenization = text.split(' ')\n",
    "    codes = []\n",
    "    for token in tokenization:\n",
    "        if len(token) != 0:\n",
    "            if get_code(code_df, token.strip()):\n",
    "                codes.append(get_code(code_df, token))\n",
    "    if len(codes) == 0:\n",
    "        return False\n",
    "    else: return \", \".join(codes)"
   ]
  },
  {
   "cell_type": "code",
   "execution_count": 24,
   "metadata": {},
   "outputs": [],
   "source": [
    "def change_rate(stock, date):\n",
    "    day = date\n",
    "    \n",
    "    df = print_stock_price(stock)\n",
    "    \n",
    "    try:\n",
    "        today_index = int(df.query(f'date == \"{date}\"').index.values)\n",
    "        yesterday_index = int(df.query(f'date == \"{date}\"').index.values) + 1\n",
    "        return round(((df.iloc[today_index].adj_close / df.iloc[yesterday_index].adj_close) - 1) * 100, 2)\n",
    "    except:\n",
    "        print(stock, date)\n",
    "    "
   ]
  },
  {
   "cell_type": "code",
   "execution_count": 20,
   "metadata": {},
   "outputs": [],
   "source": [
    "def print_stock_price(code, page_num=10):\n",
    "    result = [[], [], []]\n",
    "\n",
    "    for n in range(page_num):\n",
    "        url = 'https://finance.naver.com/item/sise_day.nhn?code='+code+'&page='+str(n+1)\n",
    "        r = requests.get(url)\n",
    "        html = r.content\n",
    "        soup = BeautifulSoup(html, 'html.parser')\n",
    "        tr = soup.select('table > tr')\n",
    "\n",
    "        for i in range(1, len(tr)-1):\n",
    "            if tr[i].select('td')[0].text.strip():\n",
    "                result[0].append(tr[i].select('td')[0].text.strip())\n",
    "                result[1].append(tr[i].select('td')[1].text.strip())\n",
    "                result[2].append(tr[i].select('td')[6].text.strip())\n",
    "\n",
    "    \n",
    "    df = (pd.DataFrame(result).T)\n",
    "    df.columns = ['date', 'adj_close', 'volume']\n",
    "    df.date = df.date.apply(lambda x: x.replace('.', '').strip())\n",
    "    df.adj_close = df.adj_close.apply(lambda x: int(x.replace(',', '').strip()))\n",
    "    df.volume = df.volume.apply(lambda x: int(x.replace(',', '').strip()))\n",
    "    \n",
    "    return df\n",
    "\n",
    "\n",
    "stock_code = '018700'\n",
    "pages = 10\n",
    "\n",
    "df = print_stock_price(stock_code, pages)"
   ]
  },
  {
   "cell_type": "code",
   "execution_count": 9,
   "metadata": {},
   "outputs": [],
   "source": [
    "news = get_news(['20200214', '20200215'])\n",
    "news['p_score'] = news.headline.apply(p_scoring)\n",
    "news['n_score'] = news.headline.apply(n_scoring)"
   ]
  },
  {
   "cell_type": "code",
   "execution_count": 11,
   "metadata": {},
   "outputs": [],
   "source": [
    "news['text'] = news.headline.apply(sw)"
   ]
  },
  {
   "cell_type": "code",
   "execution_count": 12,
   "metadata": {},
   "outputs": [],
   "source": [
    "news['is_code'] = news.text.apply(is_code)"
   ]
  },
  {
   "cell_type": "code",
   "execution_count": 39,
   "metadata": {},
   "outputs": [],
   "source": [
    "code_news = news.query('is_code != False').reset_index(drop=True)"
   ]
  },
  {
   "cell_type": "code",
   "execution_count": 43,
   "metadata": {},
   "outputs": [
    {
     "data": {
      "text/plain": [
       "(986, 7)"
      ]
     },
     "execution_count": 43,
     "metadata": {},
     "output_type": "execute_result"
    }
   ],
   "source": [
    "code_news.shape"
   ]
  },
  {
   "cell_type": "code",
   "execution_count": 50,
   "metadata": {},
   "outputs": [],
   "source": [
    "def codes_changes(code_news):\n",
    "    for idx, row in code_news.iterrows():\n",
    "        code_news.loc[idx, 'changes'] = change_rate(row.is_code, row.date)\n",
    "    return code_news"
   ]
  },
  {
   "cell_type": "code",
   "execution_count": null,
   "metadata": {},
   "outputs": [
    {
     "name": "stdout",
     "output_type": "stream",
     "text": [
      "cpu cores: 12\n"
     ]
    },
    {
     "name": "stderr",
     "output_type": "stream",
     "text": [
      "  0%|          | 0/4 [00:00<?, ?it/s]"
     ]
    },
    {
     "name": "stdout",
     "output_type": "stream",
     "text": [
      "011510 20200214\n",
      "012830\n",
      " 079430 20200214\n",
      "052640 20200214\n",
      "084730, 227100 20200214\n",
      "034730\n",
      " 003600 20200214\n",
      "053000\n",
      " 316140 20200214\n",
      "021960, 001680 20200214\n",
      "013730\n",
      " 234100 20200214\n",
      "034730\n",
      " 003600 20200214\n",
      "052640 20200214\n",
      "206560, 001040 20200214\n",
      "052640 20200214\n",
      "084730, 227100 20200214\n",
      "005930, 005930 20200214\n"
     ]
    }
   ],
   "source": [
    "import parmap \n",
    "import multiprocessing\n",
    "from multiprocessing import Manager \n",
    "print(f'cpu cores: {multiprocessing.cpu_count()}')\n",
    "num_cores = 4 # 사용할 cpu 코어 수. multiprocessing.cpu_count() 로 확인 가능 \n",
    "manager = Manager() \n",
    "#d = manager.dict() \n",
    "news_split = np.array_split(code_news, num_cores)\n",
    "\n",
    "result = parmap.map(codes_changes, news_split, pm_pbar=True, pm_processes=num_cores)\n"
   ]
  },
  {
   "cell_type": "code",
   "execution_count": 114,
   "metadata": {},
   "outputs": [
    {
     "data": {
      "text/plain": [
       "29.88"
      ]
     },
     "execution_count": 114,
     "metadata": {},
     "output_type": "execute_result"
    }
   ],
   "source": [
    "change_rate('018700', '20200213')"
   ]
  },
  {
   "cell_type": "code",
   "execution_count": null,
   "metadata": {},
   "outputs": [],
   "source": []
  }
 ],
 "metadata": {
  "kernelspec": {
   "display_name": "Python 3",
   "language": "python",
   "name": "python3"
  },
  "language_info": {
   "codemirror_mode": {
    "name": "ipython",
    "version": 3
   },
   "file_extension": ".py",
   "mimetype": "text/x-python",
   "name": "python",
   "nbconvert_exporter": "python",
   "pygments_lexer": "ipython3",
   "version": "3.7.4"
  }
 },
 "nbformat": 4,
 "nbformat_minor": 4
}
